{
  "cells": [
    {
      "cell_type": "markdown",
      "metadata": {
        "id": "view-in-github",
        "colab_type": "text"
      },
      "source": [
        "<a href=\"https://colab.research.google.com/github/Farrel0218/jonathanfarrel/blob/main/intro.ipynb\" target=\"_parent\"><img src=\"https://colab.research.google.com/assets/colab-badge.svg\" alt=\"Open In Colab\"/></a>"
      ]
    },
    {
      "cell_type": "markdown",
      "id": "4c7baac5",
      "metadata": {
        "id": "4c7baac5"
      },
      "source": [
        "# Pengenalan python dengan jupyter"
      ]
    },
    {
      "cell_type": "markdown",
      "id": "a244fcc4",
      "metadata": {
        "id": "a244fcc4"
      },
      "source": [
        "## Hello world ! dengan python"
      ]
    },
    {
      "cell_type": "markdown",
      "id": "1702b866",
      "metadata": {
        "id": "1702b866"
      },
      "source": [
        "dengan menggunakan function print(), String Hello, world! dicetak di dalam console."
      ]
    },
    {
      "cell_type": "markdown",
      "id": "a81b206f",
      "metadata": {
        "id": "a81b206f"
      },
      "source": [
        "https://en.wikibooks.org/wiki/Non-Programmer%27s_Tutorial_for_Python_3/"
      ]
    },
    {
      "cell_type": "code",
      "execution_count": null,
      "id": "18a9a17b",
      "metadata": {
        "id": "18a9a17b",
        "outputId": "1fa4f6ee-9742-4260-ba5d-0c50beb8821e"
      },
      "outputs": [
        {
          "name": "stdout",
          "output_type": "stream",
          "text": [
            "Hello, world!\n"
          ]
        }
      ],
      "source": [
        "print(\"Hello, world!\")"
      ]
    },
    {
      "cell_type": "code",
      "execution_count": null,
      "id": "039321db",
      "metadata": {
        "id": "039321db",
        "outputId": "c26dcec3-57db-4f57-abe2-d1f2e98eca14"
      },
      "outputs": [
        {
          "name": "stdout",
          "output_type": "stream",
          "text": [
            "Firstish Grade\n",
            "1 + 1 = 2\n",
            "2 + 4 = 6\n",
            "5 - 2 = 3\n",
            "\n",
            "Thirdish Grade\n",
            "243 - 23 = 220\n",
            "12 * 4 = 48\n",
            "12 / 3 = 4.0\n",
            "13 / 3 = 4 R 1\n",
            "\n",
            "Junior High\n",
            "123.56 - 62.12 = 61.440000000000005\n",
            "(4 + 3) * 2 = 14\n",
            "4 + 3 * 2 = 10\n",
            "3 ** 2 = 9\n"
          ]
        }
      ],
      "source": [
        "# This is not quite true outside of USA\n",
        "# and is based on my dim memories of my younger years\n",
        "print(\"Firstish Grade\")\n",
        "print(\"1 + 1 =\", 1 + 1)\n",
        "print(\"2 + 4 =\", 2 + 4)\n",
        "print(\"5 - 2 =\", 5 - 2)\n",
        "print()\n",
        "print(\"Thirdish Grade\")\n",
        "print(\"243 - 23 =\", 243 - 23)\n",
        "print(\"12 * 4 =\", 12 * 4)\n",
        "print(\"12 / 3 =\", 12 / 3)\n",
        "print(\"13 / 3 =\", 13 // 3, \"R\", 13 % 3)\n",
        "print()\n",
        "print(\"Junior High\")\n",
        "print(\"123.56 - 62.12 =\", 123.56 - 62.12)\n",
        "print(\"(4 + 3) * 2 =\", (4 + 3) * 2)\n",
        "print(\"4 + 3 * 2 =\", 4 + 3 * 2)\n",
        "print(\"3 ** 2 =\", 3 ** 2)"
      ]
    },
    {
      "cell_type": "markdown",
      "id": "047bc339",
      "metadata": {
        "id": "047bc339"
      },
      "source": [
        "## input  dan variables"
      ]
    },
    {
      "cell_type": "code",
      "execution_count": null,
      "id": "90712f19",
      "metadata": {
        "id": "90712f19",
        "outputId": "3e86a790-f7c3-400b-b711-c147e89f9e1c"
      },
      "outputs": [
        {
          "name": "stdout",
          "output_type": "stream",
          "text": [
            "Halt!\n",
            "Who goes there? Djon\n",
            "You may pass, Djon\n"
          ]
        }
      ],
      "source": [
        "print(\"Halt!\")\n",
        "user_input = input(\"Who goes there? \")\n",
        "print(\"You may pass,\",  user_input)"
      ]
    },
    {
      "cell_type": "code",
      "execution_count": null,
      "id": "628af482",
      "metadata": {
        "id": "628af482",
        "outputId": "9a9258f3-e8e9-408c-f3cb-e2688c39c553"
      },
      "outputs": [
        {
          "name": "stdout",
          "output_type": "stream",
          "text": [
            "a + b is 555.4\n",
            "first_name is Bill\n",
            "Sorted Parts, After Midnight or Spam\n"
          ]
        }
      ],
      "source": [
        "a = 123.4\n",
        "b23 = 'Spam'\n",
        "first_name = \"Bill\"\n",
        "b = 432\n",
        "c = a + b\n",
        "print(\"a + b is\",c)\n",
        "print(\"first_name is\",first_name)\n",
        "print(\"Sorted Parts, After Midnight or\",b23)"
      ]
    },
    {
      "cell_type": "code",
      "execution_count": null,
      "id": "4a9757e4",
      "metadata": {
        "id": "4a9757e4",
        "outputId": "f8aa4566-4a33-45a0-a964-80adf7f33501"
      },
      "outputs": [
        {
          "name": "stdout",
          "output_type": "stream",
          "text": [
            "Input a rate and a distance\n",
            "Rate: 10\n",
            "Distance: 100\n",
            "Time: 10.0\n"
          ]
        }
      ],
      "source": [
        "# This program calculates rate and distance problems\n",
        "print(\"Input a rate and a distance\")\n",
        "rate = float(input(\"Rate: \"))\n",
        "distance = float(input(\"Distance: \"))\n",
        "time=(distance/ rate)\n",
        "print(\"Time:\", time)"
      ]
    },
    {
      "cell_type": "markdown",
      "id": "1911fc09",
      "metadata": {
        "id": "1911fc09"
      },
      "source": [
        "## while loop"
      ]
    },
    {
      "cell_type": "code",
      "execution_count": null,
      "id": "25d605bf",
      "metadata": {
        "id": "25d605bf",
        "outputId": "2b2141d6-e1f8-4ed7-9737-34e4a587a033"
      },
      "outputs": [
        {
          "name": "stdout",
          "output_type": "stream",
          "text": [
            "1 2 3 4 5 6 7 8 9 10 "
          ]
        }
      ],
      "source": [
        "a = 0\n",
        "while a < 10:\n",
        "    a = a + 1\n",
        "    print(a, end=\" \")"
      ]
    },
    {
      "cell_type": "code",
      "execution_count": null,
      "id": "a54b0ff9",
      "metadata": {
        "id": "a54b0ff9",
        "outputId": "be843265-b622-4b01-c19b-e2783e1e50e5"
      },
      "outputs": [
        {
          "name": "stdout",
          "output_type": "stream",
          "text": [
            "Enter Numbers to add to the sum.\n",
            "Enter 0 to quit.\n",
            "Current Sum: 0\n",
            "Number? 2\n",
            "Current Sum: 2.0\n",
            "Number? 3\n",
            "Current Sum: 5.0\n",
            "Number? 0\n",
            "Total Sum = 5.0\n"
          ]
        }
      ],
      "source": [
        "a = 1\n",
        "s = 0\n",
        "print('Enter Numbers to add to the sum.')\n",
        "print('Enter 0 to quit.')\n",
        "while a != 0:\n",
        "    print('Current Sum:', s)\n",
        "    a = float(input('Number? '))\n",
        "    s = s + a\n",
        "print('Total Sum =', s)"
      ]
    },
    {
      "cell_type": "markdown",
      "id": "aee90e8e",
      "metadata": {
        "id": "aee90e8e"
      },
      "source": [
        "looping di atas diubah dengan berhenti menggunakan break"
      ]
    },
    {
      "cell_type": "code",
      "execution_count": null,
      "id": "a0fd95d4",
      "metadata": {
        "id": "a0fd95d4",
        "outputId": "473609ef-16a9-4a8d-a50f-42521732361b"
      },
      "outputs": [
        {
          "name": "stdout",
          "output_type": "stream",
          "text": [
            "Enter Numbers to add to the sum.\n",
            "Enter 0 to quit.\n",
            "Current Sum: 0\n",
            "Number? 3\n",
            "Current Sum: 3.0\n",
            "Number? 4\n",
            "Current Sum: 7.0\n",
            "Number? 0\n",
            "Total Sum = 7.0\n"
          ]
        }
      ],
      "source": [
        "a = 1\n",
        "s = 0\n",
        "print('Enter Numbers to add to the sum.')\n",
        "print('Enter 0 to quit.')\n",
        "while True:\n",
        "    print('Current Sum:', s)\n",
        "    a = float(input('Number? '))\n",
        "    s = s + a\n",
        "    if a == 0:\n",
        "        break\n",
        "print('Total Sum =', s)"
      ]
    },
    {
      "cell_type": "markdown",
      "id": "0119c296",
      "metadata": {
        "id": "0119c296"
      },
      "source": [
        "# Decision"
      ]
    },
    {
      "cell_type": "code",
      "execution_count": null,
      "id": "4d45e636",
      "metadata": {
        "id": "4d45e636",
        "outputId": "9f6b1f98-f741-43cc-ae03-2a90f3617776"
      },
      "outputs": [
        {
          "name": "stdout",
          "output_type": "stream",
          "text": [
            "Number? 2\n",
            "The absolute value of 2 is 2\n"
          ]
        }
      ],
      "source": [
        "n = int(input(\"Number? \"))\n",
        "if n < 0:\n",
        "   print(\"The absolute value of\", n, \"is\", -n)\n",
        "else:\n",
        "   print(\"The absolute value of\", n, \"is\", n)"
      ]
    },
    {
      "cell_type": "code",
      "execution_count": null,
      "id": "892584d1",
      "metadata": {
        "id": "892584d1",
        "outputId": "89fd5bca-9a62-4bbb-ab5f-71081a4b2901"
      },
      "outputs": [
        {
          "name": "stdout",
          "output_type": "stream",
          "text": [
            "Guess the number!\n",
            "Is it... 2\n",
            "It's bigger...\n",
            "Is it... 8\n",
            "It's not so big.\n",
            "Is it... 7\n",
            "Hooray! You guessed it right!\n"
          ]
        }
      ],
      "source": [
        "number = 7\n",
        "guess = -1\n",
        "\n",
        "print(\"Guess the number!\")\n",
        "while guess != number:\n",
        "    guess = int(input(\"Is it... \"))\n",
        "\n",
        "    if guess == number:\n",
        "        print(\"Hooray! You guessed it right!\")\n",
        "    elif guess < number:\n",
        "        print(\"It's bigger...\")\n",
        "    elif guess > number:\n",
        "        print(\"It's not so big.\")"
      ]
    },
    {
      "cell_type": "code",
      "execution_count": null,
      "id": "92ce3059",
      "metadata": {
        "id": "92ce3059"
      },
      "outputs": [],
      "source": []
    },
    {
      "cell_type": "code",
      "execution_count": null,
      "id": "6812f0a8",
      "metadata": {
        "id": "6812f0a8"
      },
      "outputs": [],
      "source": []
    }
  ],
  "metadata": {
    "kernelspec": {
      "display_name": "Python 3 (ipykernel)",
      "language": "python",
      "name": "python3"
    },
    "language_info": {
      "codemirror_mode": {
        "name": "ipython",
        "version": 3
      },
      "file_extension": ".py",
      "mimetype": "text/x-python",
      "name": "python",
      "nbconvert_exporter": "python",
      "pygments_lexer": "ipython3",
      "version": "3.10.6"
    },
    "colab": {
      "provenance": [],
      "include_colab_link": true
    }
  },
  "nbformat": 4,
  "nbformat_minor": 5
}